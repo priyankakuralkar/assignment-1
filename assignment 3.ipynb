{
 "cells": [
  {
   "cell_type": "code",
   "execution_count": null,
   "id": "51cf0462",
   "metadata": {},
   "outputs": [],
   "source": [
    "1.\tWhy are functions advantageous to have in your programs?\n",
    "Functions break our program in small groups which help us to make it organised.\n",
    "it avoid repetition that means we can wrapped our code in one def and  call it again and again when we needed. \n",
    "Because of that program gets shorter and increase readability and reduce the cause of error.\n"
   ]
  },
  {
   "cell_type": "code",
   "execution_count": null,
   "id": "8c07096f",
   "metadata": {},
   "outputs": [],
   "source": [
    "2.\tWhen does the code in a function run: when it's specified or when it's called?\n",
    "The code in a function run when it called \n",
    "\n"
   ]
  },
  {
   "cell_type": "code",
   "execution_count": null,
   "id": "a575af44",
   "metadata": {},
   "outputs": [],
   "source": [
    "3.\tWhat statement creates a function?\n",
    "Define statement creates a function which is written as def.\n",
    "\n"
   ]
  },
  {
   "cell_type": "code",
   "execution_count": null,
   "id": "3fcb476c",
   "metadata": {},
   "outputs": [],
   "source": [
    "4.\tWhat is the difference between a function and a function call?\n",
    "Function is block of code to achieve a particular task and returns result while function call is using this function to achieve the particular task.\n",
    "\n"
   ]
  },
  {
   "cell_type": "code",
   "execution_count": null,
   "id": "d833abca",
   "metadata": {},
   "outputs": [],
   "source": [
    "5.\tHow many global scopes are there in a Python program? How many local scopes?\n",
    "Only one global scope is there in python program. it remains exist in the entire program.\n",
    "In local scope variable is assigned inside a function which make them local and it can only use inside that particular function \n"
   ]
  },
  {
   "cell_type": "code",
   "execution_count": null,
   "id": "129cef65",
   "metadata": {},
   "outputs": [],
   "source": [
    "6.\tWhat happens to variables in a local scope when the function call returns?\n",
    "when function call returns it destroyed the local variable and forgotten all these variable\n",
    "\n"
   ]
  },
  {
   "cell_type": "code",
   "execution_count": null,
   "id": "e6d9eec3",
   "metadata": {},
   "outputs": [],
   "source": [
    "7.\tWhat is the concept of a return value? Is it possible to have a return value in an expression?\n",
    "Return is a value that a function return to calling function. \n",
    "function can take value as a parameter execute logic and return output to the caller with return statement. \n",
    "Yes possible to have  a return value in an expression , we can use any object as a return value\n"
   ]
  },
  {
   "cell_type": "code",
   "execution_count": null,
   "id": "eec9ccb2",
   "metadata": {},
   "outputs": [],
   "source": [
    "8.\tIf a function does not have a return statement, what is the return value of a call to that function?\n",
    "The function always return none if explicit return is not given.\n",
    "\n"
   ]
  },
  {
   "cell_type": "code",
   "execution_count": null,
   "id": "bfbc2c96",
   "metadata": {},
   "outputs": [],
   "source": [
    "9.\tHow do you make a function variable refer to the global variable?\n",
    "We can use global keyword to declared which variable is global\n",
    "\n"
   ]
  },
  {
   "cell_type": "code",
   "execution_count": null,
   "id": "e54251da",
   "metadata": {},
   "outputs": [],
   "source": [
    "10.\tWhat is the data type of None? \n",
    "None means nothing. No value associated. \n",
    "If the value is not available then to handle such type of condition none data type is introduced.\n",
    "\n"
   ]
  },
  {
   "cell_type": "code",
   "execution_count": null,
   "id": "fa4c1468",
   "metadata": {},
   "outputs": [],
   "source": [
    "11.\tWhat does the sentence import a really our pets name deric do?\n",
    "That import statement imports a module named areallyourpetnamederic.\n",
    "\n"
   ]
  },
  {
   "cell_type": "code",
   "execution_count": null,
   "id": "fc2609ac",
   "metadata": {},
   "outputs": [],
   "source": [
    "12.\tIf you had a bacon() feature in a spam module, what would you call it after importing spam?\n",
    "This is called with spam.bacon()\n"
   ]
  },
  {
   "cell_type": "code",
   "execution_count": null,
   "id": "0080930e",
   "metadata": {},
   "outputs": [],
   "source": [
    "13.\tWhat can you do to save a programme from crashing if it encounters an error?\n",
    "Place the line of code that might cause an error in a try clause.\n"
   ]
  },
  {
   "cell_type": "code",
   "execution_count": null,
   "id": "bee62247",
   "metadata": {},
   "outputs": [],
   "source": [
    " 14. What is the purpose of the try clause? What is the purpose of the except clause?\n",
    "The code that could potentially cause an error goes in the try clause.\n",
    "The code that executes if an error happens goes in the except clause.\n",
    "\n"
   ]
  }
 ],
 "metadata": {
  "kernelspec": {
   "display_name": "Python 3 (ipykernel)",
   "language": "python",
   "name": "python3"
  },
  "language_info": {
   "codemirror_mode": {
    "name": "ipython",
    "version": 3
   },
   "file_extension": ".py",
   "mimetype": "text/x-python",
   "name": "python",
   "nbconvert_exporter": "python",
   "pygments_lexer": "ipython3",
   "version": "3.9.12"
  }
 },
 "nbformat": 4,
 "nbformat_minor": 5
}
