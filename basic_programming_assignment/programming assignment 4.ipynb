{
 "cells": [
  {
   "cell_type": "code",
   "execution_count": 3,
   "id": "c61bc11d",
   "metadata": {},
   "outputs": [
    {
     "name": "stdout",
     "output_type": "stream",
     "text": [
      "24\n"
     ]
    }
   ],
   "source": [
    "#1.\tWrite a Python Program to Find the Factorial of a Number?\n",
    "def factorial_no (n):\n",
    "    factorial = 1\n",
    "    for i in range (1, n+1):\n",
    "        factorial = factorial * i\n",
    "    print(factorial)\n",
    "\n",
    "    \n",
    "factorial_no(4)"
   ]
  },
  {
   "cell_type": "code",
   "execution_count": 4,
   "id": "fd149aee",
   "metadata": {},
   "outputs": [
    {
     "name": "stdout",
     "output_type": "stream",
     "text": [
      "enter number : 5\n",
      "5 x 1 = 5\n",
      "5 x 2 = 10\n",
      "5 x 3 = 15\n",
      "5 x 4 = 20\n",
      "5 x 5 = 25\n",
      "5 x 6 = 30\n",
      "5 x 7 = 35\n",
      "5 x 8 = 40\n",
      "5 x 9 = 45\n",
      "5 x 10 = 50\n"
     ]
    }
   ],
   "source": [
    "#2.\tWrite a Python Program to Display the multiplication Table?\n",
    "n = int(input(\"enter number : \"))\n",
    "for i in range(1,11):\n",
    "    print(n , \"x\", i, \"=\" , n*i)"
   ]
  },
  {
   "cell_type": "code",
   "execution_count": 5,
   "id": "cec1ecc6",
   "metadata": {},
   "outputs": [
    {
     "name": "stdout",
     "output_type": "stream",
     "text": [
      "1\n",
      "1\n",
      "2\n",
      "3\n",
      "5\n",
      "8\n",
      "13\n",
      "21\n",
      "34\n",
      "55\n"
     ]
    }
   ],
   "source": [
    "#3.\tWrite a Python Program to Print the Fibonacci sequence?\n",
    "def fibonacci_no(n):\n",
    "    a =1\n",
    "    b =1\n",
    "    for i in range (n):\n",
    "        print(a)\n",
    "        a,b = b, a + b\n",
    "fibonacci_no(10)"
   ]
  },
  {
   "cell_type": "code",
   "execution_count": 6,
   "id": "2aec20e1",
   "metadata": {},
   "outputs": [
    {
     "name": "stdout",
     "output_type": "stream",
     "text": [
      "enter number : 657\n",
      "657  is not armstrong no\n"
     ]
    }
   ],
   "source": [
    "#4.\tWrite a Python Program to Check Armstrong Number?\n",
    "num = int(input(\"enter number : \"))\n",
    "order = len(str(num))\n",
    "sum = 0\n",
    "temp = num\n",
    "while temp > 0:\n",
    "    d = temp % 10\n",
    "    sum = sum + (d ** order)\n",
    "    temp =temp//10\n",
    "if num == sum:\n",
    "    print(num,\" is armstrong no\")\n",
    "else:\n",
    "    print(num,\" is not armstrong no\")\n"
   ]
  },
  {
   "cell_type": "code",
   "execution_count": 7,
   "id": "e8325511",
   "metadata": {},
   "outputs": [
    {
     "name": "stdout",
     "output_type": "stream",
     "text": [
      "enter first number: 10\n",
      "enter second number: 1000\n",
      "153\n",
      "370\n",
      "371\n",
      "407\n"
     ]
    }
   ],
   "source": [
    "#5.\tWrite a Python Program to Find Armstrong Number in an Interval?\n",
    "a = int(input(\"enter first number: \"))\n",
    "b = int(input(\"enter second number: \"))\n",
    "for i in range(a, b+1):\n",
    "    order = len(str(i))\n",
    "    sum = 0\n",
    "    temp = i\n",
    "    while temp > 0 :\n",
    "        d = temp % 10\n",
    "        sum =sum +(d**order)\n",
    "        temp = temp//10\n",
    "    if i == sum:\n",
    "        print(i)\n",
    "    \n",
    "        "
   ]
  },
  {
   "cell_type": "code",
   "execution_count": 8,
   "id": "610c6f4e",
   "metadata": {},
   "outputs": [
    {
     "name": "stdout",
     "output_type": "stream",
     "text": [
      "enter number : 10\n",
      "the sum is  55\n"
     ]
    }
   ],
   "source": [
    "#6.\tWrite a Python Program to Find the Sum of Natural Numbers?\n",
    "n = int(input(\"enter number : \"))\n",
    "sum = 0\n",
    "while n > 0:\n",
    "    sum = sum + n\n",
    "    n = n-1\n",
    "print(\"the sum is \", sum)\n"
   ]
  },
  {
   "cell_type": "code",
   "execution_count": null,
   "id": "bb6ad195",
   "metadata": {},
   "outputs": [],
   "source": []
  },
  {
   "cell_type": "code",
   "execution_count": null,
   "id": "58324802",
   "metadata": {},
   "outputs": [],
   "source": []
  }
 ],
 "metadata": {
  "kernelspec": {
   "display_name": "Python 3 (ipykernel)",
   "language": "python",
   "name": "python3"
  },
  "language_info": {
   "codemirror_mode": {
    "name": "ipython",
    "version": 3
   },
   "file_extension": ".py",
   "mimetype": "text/x-python",
   "name": "python",
   "nbconvert_exporter": "python",
   "pygments_lexer": "ipython3",
   "version": "3.9.12"
  }
 },
 "nbformat": 4,
 "nbformat_minor": 5
}
