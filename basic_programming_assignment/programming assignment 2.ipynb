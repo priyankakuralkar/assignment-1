{
 "cells": [
  {
   "cell_type": "code",
   "execution_count": 2,
   "id": "6f5bae36",
   "metadata": {},
   "outputs": [
    {
     "name": "stdout",
     "output_type": "stream",
     "text": [
      "enter kilometer value2\n",
      "1.242742\n"
     ]
    }
   ],
   "source": [
    "#1.\tWrite a Python program to convert kilometers to miles?\n",
    "k = float(input(\"enter kilometer value\"))\n",
    "miles = k * 0.621371\n",
    "print(miles)"
   ]
  },
  {
   "cell_type": "code",
   "execution_count": 4,
   "id": "287b226b",
   "metadata": {},
   "outputs": [
    {
     "name": "stdout",
     "output_type": "stream",
     "text": [
      "enter value in celsius  90\n",
      "conversion of celsius to fahrenheit is  194.0\n"
     ]
    }
   ],
   "source": [
    "#2.\tWrite a Python program to convert Celsius to Fahrenheit?\n",
    "celsius = float(input(\"enter value in celsius  \"))\n",
    "f = (celsius *1.8)+32\n",
    "print(\"conversion of celsius to fahrenheit is \", f)"
   ]
  },
  {
   "cell_type": "code",
   "execution_count": 8,
   "id": "17fd1e9f",
   "metadata": {},
   "outputs": [
    {
     "name": "stdout",
     "output_type": "stream",
     "text": [
      "Enter year: 2020\n",
      "Enter month: 1\n",
      "    January 2020\n",
      "Mo Tu We Th Fr Sa Su\n",
      "       1  2  3  4  5\n",
      " 6  7  8  9 10 11 12\n",
      "13 14 15 16 17 18 19\n",
      "20 21 22 23 24 25 26\n",
      "27 28 29 30 31\n",
      "\n"
     ]
    }
   ],
   "source": [
    "#3.\tWrite a Python program to display calendar?\n",
    "import calendar\n",
    "year = int(input(\"Enter year: \"))\n",
    "month = int(input(\"Enter month: \"))\n",
    "print(calendar. month(year,month))"
   ]
  },
  {
   "cell_type": "code",
   "execution_count": 10,
   "id": "8941ec5b",
   "metadata": {},
   "outputs": [
    {
     "name": "stdout",
     "output_type": "stream",
     "text": [
      "enter value of a 1\n",
      "enter value of b 5\n",
      "enter value of c 6\n",
      "solutions are -2.0,-3.0\n"
     ]
    }
   ],
   "source": [
    "#4.\tWrite a Python program to solve quadratic equation?\n",
    "import math\n",
    "a = int(input(\"enter value of a \"))\n",
    "b = int(input(\"enter value of b \"))\n",
    "c = int(input(\"enter value of c \"))\n",
    "x = (b**2)- (4*a*c)\n",
    "y = math.sqrt(abs(x))\n",
    "sol1 = (-b + y )/(2 * a)\n",
    "sol2 = (-b -y)/(2 * a)\n",
    "print(f\"solutions are {sol1},{sol2}\")"
   ]
  },
  {
   "cell_type": "code",
   "execution_count": 11,
   "id": "b1c4d848",
   "metadata": {},
   "outputs": [
    {
     "name": "stdout",
     "output_type": "stream",
     "text": [
      "enter first number 2\n",
      "enter second number 4\n",
      "value of a is  4 value of b is  2\n"
     ]
    }
   ],
   "source": [
    "#5.\tWrite a Python program to swap two variables without temp variable?\n",
    "\n",
    "a = int(input(\"enter first number \"))\n",
    "b = int( input(\"enter second number \"))\n",
    "a = a+b\n",
    "b = a-b\n",
    "a = a-b\n",
    "print(\"value of a is \", a,\"value of b is \",b)"
   ]
  },
  {
   "cell_type": "code",
   "execution_count": null,
   "id": "ccafe786",
   "metadata": {},
   "outputs": [],
   "source": []
  }
 ],
 "metadata": {
  "kernelspec": {
   "display_name": "Python 3 (ipykernel)",
   "language": "python",
   "name": "python3"
  },
  "language_info": {
   "codemirror_mode": {
    "name": "ipython",
    "version": 3
   },
   "file_extension": ".py",
   "mimetype": "text/x-python",
   "name": "python",
   "nbconvert_exporter": "python",
   "pygments_lexer": "ipython3",
   "version": "3.9.12"
  }
 },
 "nbformat": 4,
 "nbformat_minor": 5
}
