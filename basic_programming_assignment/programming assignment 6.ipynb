{
 "cells": [
  {
   "cell_type": "code",
   "execution_count": 2,
   "id": "93d4c0cd",
   "metadata": {},
   "outputs": [
    {
     "name": "stdout",
     "output_type": "stream",
     "text": [
      "How many terms? 10\n",
      "Fibonacci sequence: \n",
      "0\n",
      "1\n",
      "1\n",
      "2\n",
      "3\n",
      "5\n",
      "8\n",
      "13\n",
      "21\n",
      "34\n"
     ]
    }
   ],
   "source": [
    "#Write a Python Program to Display Fibonacci Sequence Using Recursion?\n",
    "def recur_fibo(n):  \n",
    "    if n <= 1:  \n",
    "        return n  \n",
    "    else:  \n",
    "        return(recur_fibo(n-1) + recur_fibo(n-2))  \n",
    "\n",
    "a = int(input(\"How many terms? \"))  \n",
    "\n",
    "if a <= 0:  \n",
    "    print(\"Plese enter a positive integer\")  \n",
    "else:  \n",
    "    print(\"Fibonacci sequence: \")  \n",
    "    for i in range(a):  \n",
    "        print(recur_fibo(i))  \n"
   ]
  },
  {
   "cell_type": "code",
   "execution_count": 3,
   "id": "28ec60d2",
   "metadata": {},
   "outputs": [
    {
     "name": "stdout",
     "output_type": "stream",
     "text": [
      "Enter a number: 5\n",
      "The factorial of 5 is 120\n"
     ]
    }
   ],
   "source": [
    "#Write a Python Program to Find Factorial of Number Using Recursion?\n",
    "def recur_factorial(n):  \n",
    "    if n == 1:  \n",
    "        return n  \n",
    "    else:  \n",
    "        return n*recur_factorial(n-1)  \n",
    "a = int(input(\"Enter a number: \"))  \n",
    "if a < 0:  \n",
    "    print(\"enter positive number \")  \n",
    "elif a == 0:  \n",
    "    print(\"The factorial of 0 is 1\")  \n",
    "else:  \n",
    "    print(\"The factorial of\",a,\"is\",recur_factorial(a))  "
   ]
  },
  {
   "cell_type": "code",
   "execution_count": 8,
   "id": "fe408a02",
   "metadata": {},
   "outputs": [
    {
     "name": "stdout",
     "output_type": "stream",
     "text": [
      "Input your height in meter: 1.54\n",
      "Input your weight in Kilogram: 56\n",
      "Your body mass index is:  23.61275088547816\n"
     ]
    }
   ],
   "source": [
    "#Write a Python Program to calculate your Body Mass Index?\n",
    "height = float(input(\"Input your height in meter: \"))\n",
    "weight = float(input(\"Input your weight in Kilogram: \"))\n",
    "BMI = (weight / (height * height)) \n",
    "print(\"Your body mass index is: \", BMI )"
   ]
  },
  {
   "cell_type": "code",
   "execution_count": 9,
   "id": "d916ff32",
   "metadata": {},
   "outputs": [
    {
     "name": "stdout",
     "output_type": "stream",
     "text": [
      "Natural logarithm of 14 is : \n",
      "2.6390573296152584\n"
     ]
    }
   ],
   "source": [
    "#Write a Python Program to calculate the natural logarithm of any number?\n",
    "import math\n",
    "print (\"Natural logarithm of 14 is : \" )\n",
    "print (math.log(14))"
   ]
  },
  {
   "cell_type": "code",
   "execution_count": 11,
   "id": "d6f6cfeb",
   "metadata": {},
   "outputs": [
    {
     "data": {
      "text/plain": [
       "441"
      ]
     },
     "execution_count": 11,
     "metadata": {},
     "output_type": "execute_result"
    }
   ],
   "source": [
    "#Write a Python Program for cube sum of first n natural numbers?\n",
    "def cubesum(n):\n",
    "    sum = 0\n",
    "    for i in range(1, n+1):\n",
    "        sum = sum +i*i*i\n",
    "         \n",
    "    return sum\n",
    "\n",
    "\n",
    "cubesum(6)"
   ]
  },
  {
   "cell_type": "code",
   "execution_count": null,
   "id": "5f4019bb",
   "metadata": {},
   "outputs": [],
   "source": []
  }
 ],
 "metadata": {
  "kernelspec": {
   "display_name": "Python 3 (ipykernel)",
   "language": "python",
   "name": "python3"
  },
  "language_info": {
   "codemirror_mode": {
    "name": "ipython",
    "version": 3
   },
   "file_extension": ".py",
   "mimetype": "text/x-python",
   "name": "python",
   "nbconvert_exporter": "python",
   "pygments_lexer": "ipython3",
   "version": "3.9.12"
  }
 },
 "nbformat": 4,
 "nbformat_minor": 5
}
