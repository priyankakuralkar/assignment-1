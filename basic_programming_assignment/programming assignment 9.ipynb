{
 "cells": [
  {
   "cell_type": "code",
   "execution_count": 5,
   "id": "7a38b93c",
   "metadata": {},
   "outputs": [
    {
     "name": "stdout",
     "output_type": "stream",
     "text": [
      "Enter the Number to Check Disarium Number = 175\n",
      "The Sum of the Digits = 175\n",
      "175 is a Disarium Number.\n"
     ]
    }
   ],
   "source": [
    "#Write a Python program to check if the given number is a Disarium Number?\n",
    "n = int(input(\"Enter the Number to Check Disarium Number = \"))\n",
    "l = len(str(n))\n",
    "Temp = n\n",
    "Sum = 0\n",
    "rem = 0\n",
    "while Temp > 0:\n",
    "    rem = Temp % 10\n",
    "    Sum = Sum + int(rem**l)\n",
    "    Temp = Temp // 10\n",
    "    l = l- 1\n",
    "print(\"The Sum of the Digits = %d\" %Sum)\n",
    "if Sum == n:\n",
    "    print(\"%d is a Disarium Number.\" %n)\n",
    "else:\n",
    "    print(\"%d is Not a Disarium Number.\" %n)"
   ]
  },
  {
   "cell_type": "code",
   "execution_count": 11,
   "id": "5cb1166e",
   "metadata": {},
   "outputs": [
    {
     "name": "stdout",
     "output_type": "stream",
     "text": [
      "Disarium numbers between 1 and 100 are\n",
      "1\n",
      "2\n",
      "3\n",
      "4\n",
      "5\n",
      "6\n",
      "7\n",
      "8\n",
      "9\n",
      "89\n"
     ]
    }
   ],
   "source": [
    "#Write a Python program to print all disarium numbers between 1 to 100?\n",
    "def Length(n): \n",
    "    length = 0    \n",
    "    while(n != 0):    \n",
    "        length = length + 1    \n",
    "        n = n//10    \n",
    "    return length\n",
    "def sumdigit(num):  \n",
    "    rem = sum = 0    \n",
    "    len = Length(num)   \n",
    "        \n",
    "    while(num > 0):    \n",
    "        rem = num%10    \n",
    "        sum = sum + (rem**len)    \n",
    "        num = num//10   \n",
    "        len = len - 1   \n",
    "    return sum   \n",
    "      \n",
    "result = 0\n",
    "print(\"Disarium numbers between 1 and 100 are\")    \n",
    "for i in range(1, 101):    \n",
    "    result = sumdigit(i)    \n",
    "        \n",
    "    if(result == i):    \n",
    "        print(i)    \n",
    "     "
   ]
  },
  {
   "cell_type": "code",
   "execution_count": 15,
   "id": "baef5fd0",
   "metadata": {},
   "outputs": [
    {
     "name": "stdout",
     "output_type": "stream",
     "text": [
      "enter number : 7\n",
      "happy number\n"
     ]
    }
   ],
   "source": [
    "#Write a Python program to check if the given number is Happy Number?\n",
    "def isHappy(n):    \n",
    "    remaining = sum = 0;    \n",
    "    while(n > 0):    \n",
    "        remaining  = n % 10    \n",
    "        sum =sum + remaining **2  \n",
    "        n //= 10    \n",
    "    return sum  \n",
    "        \n",
    "n = int(input(\"enter number : \"))    \n",
    "result = n    \n",
    "     \n",
    "while(result != 1 and result != 4):    \n",
    "    result = isHappy(result)    \n",
    "     \n",
    "if(result == 1):    \n",
    "    print(\"happy number\")\n",
    "elif(result == 4):    \n",
    "    print(\"not a happy number\")  "
   ]
  },
  {
   "cell_type": "code",
   "execution_count": 16,
   "id": "e9edb3f9",
   "metadata": {},
   "outputs": [
    {
     "name": "stdout",
     "output_type": "stream",
     "text": [
      "List of happy numbers between 1 and 100: \n",
      "1\n",
      "7\n",
      "10\n",
      "13\n",
      "19\n",
      "23\n",
      "28\n",
      "31\n",
      "32\n",
      "44\n",
      "49\n",
      "68\n",
      "70\n",
      "79\n",
      "82\n",
      "86\n",
      "91\n",
      "94\n",
      "97\n",
      "100\n"
     ]
    }
   ],
   "source": [
    "#Write a Python program to print all happy numbers between 1 and 100?\n",
    "def isHappy(n):    \n",
    "    remaining = sum = 0;    \n",
    "    while(n > 0):    \n",
    "        remaining = n % 10    \n",
    "        sum =sum + remaining **2  \n",
    "        n //= 10    \n",
    "    return sum  \n",
    "print(\"List of happy numbers between 1 and 100: \")    \n",
    "for i in range(1, 101):    \n",
    "    result = i \n",
    "    while(result != 1 and result != 4):    \n",
    "        result = isHappy(result)    \n",
    "     \n",
    "    if(result == 1):    \n",
    "        print(i)\n",
    "    "
   ]
  },
  {
   "cell_type": "code",
   "execution_count": 7,
   "id": "4a0ad580",
   "metadata": {},
   "outputs": [
    {
     "name": "stdout",
     "output_type": "stream",
     "text": [
      "Enter number: 153\n",
      "The Sum of the Digits =  9\n",
      " 153 is Harshad Number\n"
     ]
    }
   ],
   "source": [
    "#Write a Python program to determine whether the given number is a Harshad Number?\n",
    "number = int(input('Enter number: '))\n",
    "rem = sum = 0\n",
    "temp = number\n",
    "while temp > 0:\n",
    "    rem = temp % 10\n",
    "    sum = sum + rem\n",
    "    temp  = temp // 10\n",
    "print(\"The Sum of the Digits = \",sum)\n",
    "if number % sum == 0:\n",
    "    print(' %d is Harshad Number' % (number))\n",
    "else:\n",
    "    print('%d is Not Harshad Number' % (number))"
   ]
  },
  {
   "cell_type": "code",
   "execution_count": 8,
   "id": "d91dda80",
   "metadata": {},
   "outputs": [
    {
     "name": "stdout",
     "output_type": "stream",
     "text": [
      "Pronic numbers between 1 and 100: \n",
      "2\n",
      "6\n",
      "12\n",
      "20\n",
      "30\n",
      "42\n",
      "56\n",
      "72\n",
      "90\n"
     ]
    }
   ],
   "source": [
    "#Write a Python program to print all pronic numbers between 1 and 100?\n",
    "def isPronicNumber(num):    \n",
    "    flag = False    \n",
    "        \n",
    "    for j in range(1, num+1):  \n",
    "         if((j*(j+1)) == num):    \n",
    "            flag = True\n",
    "            break\n",
    "    return flag   \n",
    "print(\"Pronic numbers between 1 and 100: \")    \n",
    "for i in range(1, 101):    \n",
    "    if(isPronicNumber(i)):    \n",
    "        print(i)         "
   ]
  },
  {
   "cell_type": "code",
   "execution_count": null,
   "id": "1d3d20e1",
   "metadata": {},
   "outputs": [],
   "source": []
  }
 ],
 "metadata": {
  "kernelspec": {
   "display_name": "Python 3 (ipykernel)",
   "language": "python",
   "name": "python3"
  },
  "language_info": {
   "codemirror_mode": {
    "name": "ipython",
    "version": 3
   },
   "file_extension": ".py",
   "mimetype": "text/x-python",
   "name": "python",
   "nbconvert_exporter": "python",
   "pygments_lexer": "ipython3",
   "version": "3.9.12"
  }
 },
 "nbformat": 4,
 "nbformat_minor": 5
}
