{
 "cells": [
  {
   "cell_type": "code",
   "execution_count": null,
   "id": "cc1d204f",
   "metadata": {},
   "outputs": [],
   "source": [
    "1.\tWhat is the name of the feature responsible for generating Regex objects?\n",
    " Re.compile() function the regex object\n",
    "\n"
   ]
  },
  {
   "cell_type": "code",
   "execution_count": null,
   "id": "48cbe428",
   "metadata": {},
   "outputs": [],
   "source": [
    "2.\tWhy do raw strings often appear in Regex objects?\n",
    "Raw string is used because backslashes do not have to be escaped.\n",
    "\n"
   ]
  },
  {
   "cell_type": "code",
   "execution_count": null,
   "id": "b88e674c",
   "metadata": {},
   "outputs": [],
   "source": [
    "3.\tWhat is the return value of the search() method?\n",
    "Search method returns match object\n",
    "\n"
   ]
  },
  {
   "cell_type": "code",
   "execution_count": null,
   "id": "88fc5e83",
   "metadata": {},
   "outputs": [],
   "source": [
    "4.\tFrom a Match item, how do you get the actual strings that match the pattern?\n",
    "The group () method returns string of the match item\n"
   ]
  },
  {
   "cell_type": "code",
   "execution_count": null,
   "id": "166e73c9",
   "metadata": {},
   "outputs": [],
   "source": [
    "5.\tIn the regex which created from the r'(\\d\\d\\d)-(\\d\\d\\d-\\d\\d\\d\\d)', what does group zero cover? Group 2? Group 1?\n",
    "Group 0 is the entire match, group 1 covers the first set of parentheses, group 2 covers the second set of parentheses. \n"
   ]
  },
  {
   "cell_type": "code",
   "execution_count": null,
   "id": "5da2df12",
   "metadata": {},
   "outputs": [],
   "source": [
    "6.\tIn standard expression syntax, parentheses and intervals have distinct meanings. How can you tell a regex that you want it to fit real parentheses and periods?\n",
    "Periods and parentheses can be escape with a backslash \\,\\(, and \\)\n"
   ]
  },
  {
   "cell_type": "code",
   "execution_count": null,
   "id": "9f386ab8",
   "metadata": {},
   "outputs": [],
   "source": [
    "7.\tThe findall() method returns a string list or a list of string tuples. What causes it to return one of the two options?\n",
    "If regex has no groups ,a list of strings is returned. If regex has groups a list of tuples of strings is returns\n",
    "\n"
   ]
  },
  {
   "cell_type": "code",
   "execution_count": null,
   "id": "34a3ec84",
   "metadata": {},
   "outputs": [],
   "source": [
    "8.\tIn standard expressions, what does the | character mean?\n",
    "The | character means “or” between two groups\n"
   ]
  },
  {
   "cell_type": "code",
   "execution_count": null,
   "id": "43e35ff2",
   "metadata": {},
   "outputs": [],
   "source": [
    "9.\tIn regular expressions, what does the character stand for?\n",
    "\tThe preceding items is optional and matched at once .(i.e.occurs 0 or 1 times or optional)\n"
   ]
  },
  {
   "cell_type": "code",
   "execution_count": null,
   "id": "52b95c8b",
   "metadata": {},
   "outputs": [],
   "source": [
    "10.In regular expressions, what is the difference between the + and * characters?\n",
    "      + :the preceding item will be matched one or more time (i.e. +1)\n",
    "       * : the preceding item will be matched zero or more time(i.e.+0)\n"
   ]
  },
  {
   "cell_type": "code",
   "execution_count": null,
   "id": "01d9dbc5",
   "metadata": {},
   "outputs": [],
   "source": [
    "11. What is the difference between {4} and {4,5} in regular expression?\n",
    "{4} the preceding item exactly match with 4, but in{4,5} the preceding item atleast match with 4 but  not more than 5\n"
   ]
  },
  {
   "cell_type": "code",
   "execution_count": null,
   "id": "f992531d",
   "metadata": {},
   "outputs": [],
   "source": [
    "11. What is the difference between {4} and {4,5} in regular expression?\n",
    "{4} the preceding item exactly match with 4, but in{4,5} the preceding item atleast match with 4 but  not more than 5\n"
   ]
  },
  {
   "cell_type": "code",
   "execution_count": null,
   "id": "2b4f50b1",
   "metadata": {},
   "outputs": [],
   "source": [
    "12. What do you mean by the \\d, \\w, and \\s shorthand character classes signify in regular expressions?\n",
    " The shorthand character classes \\d for single digit ,\\w for word and \\s is for space \n"
   ]
  },
  {
   "cell_type": "code",
   "execution_count": null,
   "id": "723a4696",
   "metadata": {},
   "outputs": [],
   "source": [
    "13. What do means by \\D, \\W, and \\S shorthand character classes signify in regular expressions?\n",
    "Shorthand classes \\D matches  any single character that is not a digit, \\W matches any single character that does not match with word, \\S matches any single character that does  not match with space \n",
    "\n"
   ]
  },
  {
   "cell_type": "code",
   "execution_count": null,
   "id": "ade85ff6",
   "metadata": {},
   "outputs": [],
   "source": [
    "14. What is the difference between .*? and .*?\n",
    ".* is for greedy operator . greedy operator means repetition operator and by default grasps as my character as possible  for a match\n",
    ".*? it performs non greedy match. You can put an extra ? after repetition operator to curb its greediness. \n",
    "\n"
   ]
  },
  {
   "cell_type": "code",
   "execution_count": null,
   "id": "5f006b69",
   "metadata": {},
   "outputs": [],
   "source": [
    "15. What is the syntax for matching both numbers and lowercase letters with a character class?\n",
    "Either [0-9a-z] or [a-z0-9]\n",
    "\n"
   ]
  },
  {
   "cell_type": "code",
   "execution_count": null,
   "id": "74492d56",
   "metadata": {},
   "outputs": [],
   "source": [
    "16. What is the procedure for making a normal expression in regax case insensitive?\n",
    "Passing  re.l to as a second argument to re.compile() will make case insensitive\n",
    "\n"
   ]
  },
  {
   "cell_type": "code",
   "execution_count": null,
   "id": "c3539d09",
   "metadata": {},
   "outputs": [],
   "source": [
    "17. What does the . character normally match? What does it match if re.DOTALL is passed as 2nd argument in re.compile()?\n",
    "The . character normally matches any character except newline character.if re.DOTALL is passed as second argument in re.compile() then dot is also matches newline character. \n",
    "\n"
   ]
  },
  {
   "cell_type": "code",
   "execution_count": null,
   "id": "41ed5a61",
   "metadata": {},
   "outputs": [],
   "source": [
    "18. If numReg = re.compile(r'\\d+'), what will numRegex.sub('X', '11 drummers, 10 pipers, five rings, 4 hen') return?\n",
    "‘X drummers, X pipers ,five rings, X hens’\n",
    "\n"
   ]
  },
  {
   "cell_type": "code",
   "execution_count": null,
   "id": "10e1b880",
   "metadata": {},
   "outputs": [],
   "source": [
    "19. What does passing re.VERBOSE as the 2nd argument to re.compile() allow to do?\n",
    " Re.VERBOSE argument allows you to add whitespace and comment to string pass to re.compile()\n",
    "\n"
   ]
  },
  {
   "cell_type": "code",
   "execution_count": null,
   "id": "1a503fb4",
   "metadata": {},
   "outputs": [],
   "source": [
    "20. How would you write a regex that match a number with comma for every three digits? It must match the given following:\n",
    "'42'\n",
    "'1,234'\n",
    "'6,368,745'\n",
    "but not the following:\n",
    "'12,34,567' (which has only two digits between the commas)\n",
    "'1234' (which lacks commas)\n",
    "Re.compile(r’^\\d{1,3}(,\\d{3})*$’) will create this regex,  but other regex strings can produce a similar regular expression.\n"
   ]
  },
  {
   "cell_type": "code",
   "execution_count": null,
   "id": "31b56840",
   "metadata": {},
   "outputs": [],
   "source": [
    "21. How would you write a regex that matches the full name of someone whose last name is Watanabe? You can assume that the first name that comes before it will always be one word that begins with a capital letter. The regex must match the following:\n",
    "'Haruto Watanabe'\n",
    "'Alice Watanabe'\n",
    "'RoboCop Watanabe'\n",
    "but not the following:\n",
    "'haruto Watanabe' (where the first name is not capitalized)\n",
    "'Mr. Watanabe' (where the preceding word has a nonletter character)\n",
    "'Watanabe' (which has no first name)\n",
    "'Haruto watanabe' (where Watanabe is not capitalized)\n",
    "\n",
    "\n",
    "Re.compile(r’[A-Z][a-z]*\\sWatanabe’)\n",
    "\n"
   ]
  },
  {
   "cell_type": "code",
   "execution_count": null,
   "id": "f4c7060c",
   "metadata": {},
   "outputs": [],
   "source": [
    "22. How would you write a regex that matches a sentence where the first word is either Alice, Bob, or Carol; the second word is either eats, pets, or throws; the third word is apples, cats, or baseballs; and the sentence ends with a period? This regex should be case-insensitive. It must match the following:\n",
    "'Alice eats apples.'\n",
    "'Bob pets cats.'\n",
    "'Carol throws baseballs.'\n",
    "'Alice throws Apples.'\n",
    "'BOB EATS CATS.'\n",
    "but not the following:\n",
    "'RoboCop eats apples.'\n",
    "'ALICE THROWS FOOTBALLS.'\n",
    "'Carol eats 7 cats.'\n",
    "\n",
    "\n",
    "Re.compile(r’(Alice|Bob|carol)\\s(eats|pets|throws)\\s(apples|cats|baseballs)\\.’,re.IGNORECASE)\n"
   ]
  }
 ],
 "metadata": {
  "kernelspec": {
   "display_name": "Python 3 (ipykernel)",
   "language": "python",
   "name": "python3"
  },
  "language_info": {
   "codemirror_mode": {
    "name": "ipython",
    "version": 3
   },
   "file_extension": ".py",
   "mimetype": "text/x-python",
   "name": "python",
   "nbconvert_exporter": "python",
   "pygments_lexer": "ipython3",
   "version": "3.9.12"
  }
 },
 "nbformat": 4,
 "nbformat_minor": 5
}
