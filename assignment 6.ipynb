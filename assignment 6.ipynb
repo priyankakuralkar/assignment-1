{
 "cells": [
  {
   "cell_type": "code",
   "execution_count": null,
   "id": "5e44b65d",
   "metadata": {},
   "outputs": [],
   "source": [
    "1.\tWhat are escape characters, and how do you use them?\n",
    "To insert characters that are illegal  in string use as escape characters.\n",
    "It is a blackslash \\ followed by certain character. \n"
   ]
  },
  {
   "cell_type": "code",
   "execution_count": null,
   "id": "efc52517",
   "metadata": {},
   "outputs": [],
   "source": [
    "2.\tWhat do the escape characters n and t stand for?\n",
    "\\n is for new line, \\t is for tab\n"
   ]
  },
  {
   "cell_type": "code",
   "execution_count": null,
   "id": "e7b016a2",
   "metadata": {},
   "outputs": [],
   "source": [
    "3.\tWhat is the way to include backslash characters in a string?\n",
    "The \\\\  escape character is used  to represent a backslash in string\n"
   ]
  },
  {
   "cell_type": "code",
   "execution_count": null,
   "id": "95ecd0ef",
   "metadata": {},
   "outputs": [],
   "source": [
    "4.\tThe string \"Howl's Moving Castle\" is a correct value. Why isn't the single quote character in the word Howl's not escaped a problem?\n",
    "\n",
    "No , it is valid value. Because all the string is in double quote, howl’s single quote is consider as a character.\n"
   ]
  },
  {
   "cell_type": "code",
   "execution_count": null,
   "id": "deca816f",
   "metadata": {},
   "outputs": [],
   "source": [
    "5.\tHow do you write a string of newlines if you don't want to use the n character?\n",
    "Multiline string is allow you to use newlines in string without used \\n escape character.\n",
    "\n"
   ]
  },
  {
   "cell_type": "code",
   "execution_count": null,
   "id": "06a53cd8",
   "metadata": {},
   "outputs": [],
   "source": [
    "#What are the values of the given expressions?\n",
    "'Hello, world!'[1]      e\n",
    "'Hello, world!'[0:5]   hello \n",
    "'Hello, world!'[:5]    hello\n",
    "'Hello, world!'[3:]    lo, world\n",
    "\n"
   ]
  },
  {
   "cell_type": "code",
   "execution_count": 2,
   "id": "e1fd579b",
   "metadata": {},
   "outputs": [
    {
     "data": {
      "text/plain": [
       "'e'"
      ]
     },
     "execution_count": 2,
     "metadata": {},
     "output_type": "execute_result"
    }
   ],
   "source": [
    "s[1]"
   ]
  },
  {
   "cell_type": "code",
   "execution_count": 3,
   "id": "8ce749c8",
   "metadata": {},
   "outputs": [
    {
     "data": {
      "text/plain": [
       "'Hello'"
      ]
     },
     "execution_count": 3,
     "metadata": {},
     "output_type": "execute_result"
    }
   ],
   "source": [
    "s[0:5]"
   ]
  },
  {
   "cell_type": "code",
   "execution_count": 4,
   "id": "a5d2f8c9",
   "metadata": {},
   "outputs": [
    {
     "data": {
      "text/plain": [
       "'Hello'"
      ]
     },
     "execution_count": 4,
     "metadata": {},
     "output_type": "execute_result"
    }
   ],
   "source": [
    "s[:5]"
   ]
  },
  {
   "cell_type": "code",
   "execution_count": 5,
   "id": "14d3807c",
   "metadata": {},
   "outputs": [
    {
     "data": {
      "text/plain": [
       "'lo world'"
      ]
     },
     "execution_count": 5,
     "metadata": {},
     "output_type": "execute_result"
    }
   ],
   "source": [
    "s[3:]"
   ]
  },
  {
   "cell_type": "code",
   "execution_count": null,
   "id": "6b62f9a9",
   "metadata": {},
   "outputs": [],
   "source": [
    ". What are the values of the following expressions?\n",
    "'Hello'.upper()    HELLO\n",
    "'Hello'.upper().isupper() True\n",
    "'Hello'.upper().lower()   hello\n"
   ]
  },
  {
   "cell_type": "code",
   "execution_count": 6,
   "id": "c8f88502",
   "metadata": {},
   "outputs": [
    {
     "data": {
      "text/plain": [
       "'HELLO'"
      ]
     },
     "execution_count": 6,
     "metadata": {},
     "output_type": "execute_result"
    }
   ],
   "source": [
    "'Hello'.upper()"
   ]
  },
  {
   "cell_type": "code",
   "execution_count": 7,
   "id": "00b9d9da",
   "metadata": {},
   "outputs": [
    {
     "data": {
      "text/plain": [
       "True"
      ]
     },
     "execution_count": 7,
     "metadata": {},
     "output_type": "execute_result"
    }
   ],
   "source": [
    "'Hello'.upper().isupper() "
   ]
  },
  {
   "cell_type": "code",
   "execution_count": 8,
   "id": "cd8b2b82",
   "metadata": {},
   "outputs": [
    {
     "data": {
      "text/plain": [
       "'hello'"
      ]
     },
     "execution_count": 8,
     "metadata": {},
     "output_type": "execute_result"
    }
   ],
   "source": [
    "'Hello'.upper().lower()"
   ]
  },
  {
   "cell_type": "code",
   "execution_count": 9,
   "id": "1c1c0beb",
   "metadata": {},
   "outputs": [
    {
     "data": {
      "text/plain": [
       "['Remember,', 'remember,', 'the', 'fifth', 'of', 'July.']"
      ]
     },
     "execution_count": 9,
     "metadata": {},
     "output_type": "execute_result"
    }
   ],
   "source": [
    "#What are the values of the following expressions?\n",
    "'Remember, remember, the fifth of July.'.split()\n"
   ]
  },
  {
   "cell_type": "code",
   "execution_count": 15,
   "id": "f6b3070e",
   "metadata": {},
   "outputs": [
    {
     "data": {
      "text/plain": [
       "'There-can-only-one.'"
      ]
     },
     "execution_count": 15,
     "metadata": {},
     "output_type": "execute_result"
    }
   ],
   "source": [
    "'-'.join('There can only one.'.split())"
   ]
  },
  {
   "cell_type": "code",
   "execution_count": null,
   "id": "67fb19bf",
   "metadata": {},
   "outputs": [],
   "source": [
    "9. What are the methods for right-justifying, left-justifying, and centering a string?\n",
    " rjust(), ljust() ,center() are the methods for a string respectively.\n"
   ]
  },
  {
   "cell_type": "code",
   "execution_count": null,
   "id": "05ed657a",
   "metadata": {},
   "outputs": [],
   "source": [
    "10. What is the best way to remove whitespace characters from the start or end?\n",
    "rstrip(), lstrip() are the methods to use for remove whitespace characters from start or end\n"
   ]
  },
  {
   "cell_type": "code",
   "execution_count": null,
   "id": "eb3c3267",
   "metadata": {},
   "outputs": [],
   "source": []
  }
 ],
 "metadata": {
  "kernelspec": {
   "display_name": "Python 3 (ipykernel)",
   "language": "python",
   "name": "python3"
  },
  "language_info": {
   "codemirror_mode": {
    "name": "ipython",
    "version": 3
   },
   "file_extension": ".py",
   "mimetype": "text/x-python",
   "name": "python",
   "nbconvert_exporter": "python",
   "pygments_lexer": "ipython3",
   "version": "3.9.12"
  }
 },
 "nbformat": 4,
 "nbformat_minor": 5
}
