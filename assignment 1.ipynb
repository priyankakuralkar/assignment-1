{
 "cells": [
  {
   "cell_type": "markdown",
   "id": "6c552432",
   "metadata": {},
   "source": [
    "1. In the below elements which of them are values or an expression? eg:- values can be integer or string and expressions will be mathematical operators.\n",
    "* - multiplication operator is expression\n",
    "#'hello' – string is value\n",
    "-87.8 - float is value\n",
    "-  - subtraction operator is expression\n",
    "/  - division operator is expression\n",
    "+- addition operator is expression\n",
    "6  - integer is value\n"
   ]
  },
  {
   "cell_type": "markdown",
   "id": "fc734ed9",
   "metadata": {},
   "source": [
    "2. What is the difference between string and variable?\n",
    "variableis fundamental type contain only a value of suitable size and format like number, character or Boolean value. E.g. : \n",
    "x = 10 , \n",
    "in this x is a variable which stored a value. But,string is a type of variable.it is sequence of character, which is usedfor writing and reading data, string is mention (\"\")double quote or single quote (‘’).  e.g.  “hello world”\n"
   ]
  },
  {
   "cell_type": "markdown",
   "id": "5b5f4196",
   "metadata": {},
   "source": [
    "3. Describe three different data types.\n",
    "1) Integer:It is a numeric data type which is represented by int (). This class stored a whole number(positive or negative). E.g. : x = 10\n",
    "2) Float  : It is also a numeric data type which is represented by float(). This class stored a decimal number. E.g. x = 10.1\n",
    "\n",
    "3)Boolean : Boolean type is represented by bool(). It has only two type of values that is true and false which behaves like 1 and 0 respectively. E.g.  True== 1  output will be True.\n"
   ]
  },
  {
   "cell_type": "markdown",
   "id": "ef80f0e9",
   "metadata": {},
   "source": [
    "4. What is an expression made up of? What do all expressions do?\n",
    "Sequence of operand and operator is expression which interpreted to produce some value. \n",
    "\n"
   ]
  },
  {
   "cell_type": "markdown",
   "id": "17723cdb",
   "metadata": {},
   "source": [
    "5. This assignment statements, like spam = 10. What is the difference between an expression and a statement?\n",
    "Expression always evaluate some value but statement is just line of code which displaying a  value. \n"
   ]
  },
  {
   "cell_type": "code",
   "execution_count": 1,
   "id": "6d444f02",
   "metadata": {},
   "outputs": [
    {
     "data": {
      "text/plain": [
       "23"
      ]
     },
     "execution_count": 1,
     "metadata": {},
     "output_type": "execute_result"
    }
   ],
   "source": [
    "#6. After running the following code, what does the variable bacon contain?\n",
    "bacon = 22\n",
    "bacon + 1\n"
   ]
  },
  {
   "cell_type": "code",
   "execution_count": 5,
   "id": "87e29f18",
   "metadata": {},
   "outputs": [
    {
     "data": {
      "text/plain": [
       "'spamspamspam'"
      ]
     },
     "execution_count": 5,
     "metadata": {},
     "output_type": "execute_result"
    }
   ],
   "source": [
    "#7. What should the values of the following two terms be?\n",
    "'spam' + 'spamspam'\n"
   ]
  },
  {
   "cell_type": "code",
   "execution_count": 4,
   "id": "ef8b2618",
   "metadata": {},
   "outputs": [
    {
     "data": {
      "text/plain": [
       "'spamspamspam'"
      ]
     },
     "execution_count": 4,
     "metadata": {},
     "output_type": "execute_result"
    }
   ],
   "source": [
    "'spam' * 3"
   ]
  },
  {
   "cell_type": "markdown",
   "id": "fdde6f8d",
   "metadata": {},
   "source": [
    "8. Why is eggs a valid variable name while 100 is invalid?\n",
    "Because variable always start with letters not number\n"
   ]
  },
  {
   "cell_type": "markdown",
   "id": "f08a0c00",
   "metadata": {},
   "source": [
    "9. What three functions can be used to get the integer, floating-point number, or string version of a value?\n",
    "1)integer : function for this int()\n",
    "2)floating point number : function for this float()\n",
    "3)string : function for this str() \n"
   ]
  },
  {
   "cell_type": "code",
   "execution_count": 8,
   "id": "f1e8365f",
   "metadata": {},
   "outputs": [
    {
     "data": {
      "text/plain": [
       "'i have eaten99burritos.'"
      ]
     },
     "execution_count": 8,
     "metadata": {},
     "output_type": "execute_result"
    }
   ],
   "source": [
    "#10. Why does this expression cause an error? How can you fix it?\n",
    "#'I have eaten ' + 99 + ' burritos.'\n",
    "#-Because this is a heterogenous sentence which carries string and integer datatype. We have to convert it into one datatype. \n",
    "# we assign 99 as a string \n",
    "\"i have eaten\" + str(\"99\") + \"burritos.\""
   ]
  }
 ],
 "metadata": {
  "kernelspec": {
   "display_name": "Python 3 (ipykernel)",
   "language": "python",
   "name": "python3"
  },
  "language_info": {
   "codemirror_mode": {
    "name": "ipython",
    "version": 3
   },
   "file_extension": ".py",
   "mimetype": "text/x-python",
   "name": "python",
   "nbconvert_exporter": "python",
   "pygments_lexer": "ipython3",
   "version": "3.9.12"
  }
 },
 "nbformat": 4,
 "nbformat_minor": 5
}
