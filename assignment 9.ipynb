{
 "cells": [
  {
   "cell_type": "code",
   "execution_count": null,
   "id": "00eb0737",
   "metadata": {},
   "outputs": [],
   "source": [
    "#1. To what does a relative path refer?\n",
    "A relative path refers to a location that is relative to a current directory. \n"
   ]
  },
  {
   "cell_type": "code",
   "execution_count": null,
   "id": "277f142a",
   "metadata": {},
   "outputs": [],
   "source": [
    "#2.What does an absolute path start with your operating system?\n",
    "the absolute path contains the root directory and all other subdirectories where a file or folder is contained.\n",
    "in windows OS absolute path start with c:"
   ]
  },
  {
   "cell_type": "code",
   "execution_count": null,
   "id": "65010ca2",
   "metadata": {},
   "outputs": [],
   "source": [
    "#3. What do the functions os.getcwd() and os.chdir() do?\n",
    "os.getcwd() method stands for current working directory.this method tells to see what your current working directory is.\n",
    "whereas os.chdir() stands for change directory ,this method allows you to change path of current working directory of your choice \n"
   ]
  },
  {
   "cell_type": "code",
   "execution_count": null,
   "id": "6e79c8d9",
   "metadata": {},
   "outputs": [],
   "source": [
    "#4. What are the . and .. folders?\n",
    " a dot (.)represents the current directory and a double-dot (..) represents the parent directory.\n",
    "\n"
   ]
  },
  {
   "cell_type": "code",
   "execution_count": null,
   "id": "17d7fb0c",
   "metadata": {},
   "outputs": [],
   "source": [
    "#5. In C:\\bacon\\eggs\\spam.txt, which part is the dir name, and which part is the base name?\n",
    "\n",
    "For C:\\bacon\\eggs\\spam.txt\n",
    "The dir name is C:\\\\bacon\\\\eggs\n",
    "The Base name is spam.txt"
   ]
  },
  {
   "cell_type": "code",
   "execution_count": 1,
   "id": "3bbb5291",
   "metadata": {},
   "outputs": [
    {
     "name": "stdout",
     "output_type": "stream",
     "text": [
      "C:\\bacon\\eggs\n",
      "spam.txt\n"
     ]
    }
   ],
   "source": [
    "import os\n",
    "path = r'C:\\bacon\\eggs\\spam.txt'\n",
    "print(os.path.dirname(path))\n",
    "print(os.path.basename(path))"
   ]
  },
  {
   "cell_type": "code",
   "execution_count": null,
   "id": "7dd64c91",
   "metadata": {},
   "outputs": [],
   "source": [
    "#6. What are the three “mode” arguments that can be passed to the open() function?\n",
    "The user uses the open() function with two arguments:\n",
    "the file name and the mode (read or write) to return a file object.\n",
    "r : Opens the file in read-only mode.\n",
    "rb : Opens the file as read-only in binary format and starts reading from the beginning of the file.\n",
    "r+ : Opens a file for reading and writing, placing the pointer at the beginning of the file."
   ]
  },
  {
   "cell_type": "code",
   "execution_count": null,
   "id": "e0fb1f04",
   "metadata": {},
   "outputs": [],
   "source": [
    "#7. What happens if an existing file is opened in write mode?\n",
    "Using this mode will overwrite any existing content in a file.\n",
    "If the given file does not exist, a new one will be created."
   ]
  },
  {
   "cell_type": "code",
   "execution_count": null,
   "id": "43a80df4",
   "metadata": {},
   "outputs": [],
   "source": [
    "#8. How do you tell the difference between read() and readlines()?\n",
    "The read() will read the whole file at once and then print out the first characters that take up as many bytes as you specify in the parenthesis\n",
    "The read() would treat each character in the file separately, meaning that the iteration would happen for every character.\n",
    "the readline() that will read and print out only the first characters that take up as many bytes as you specify in the parenthesis. \n",
    "The readline() function, on the other hand, only reads a single line of the file. "
   ]
  },
  {
   "cell_type": "code",
   "execution_count": null,
   "id": "ae6f86fe",
   "metadata": {},
   "outputs": [],
   "source": [
    "#9. What data structure does a shelf value resemble?\n",
    " it contains key and values it represents dictionary."
   ]
  }
 ],
 "metadata": {
  "kernelspec": {
   "display_name": "Python 3 (ipykernel)",
   "language": "python",
   "name": "python3"
  },
  "language_info": {
   "codemirror_mode": {
    "name": "ipython",
    "version": 3
   },
   "file_extension": ".py",
   "mimetype": "text/x-python",
   "name": "python",
   "nbconvert_exporter": "python",
   "pygments_lexer": "ipython3",
   "version": "3.9.12"
  }
 },
 "nbformat": 4,
 "nbformat_minor": 5
}
