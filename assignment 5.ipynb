{
 "cells": [
  {
   "cell_type": "code",
   "execution_count": null,
   "id": "bd23ff11",
   "metadata": {},
   "outputs": [],
   "source": [
    "1.\tWhat does an empty dictionary's code look like?\n",
    "- {} two curly brackets (opening and closing brackets)\n"
   ]
  },
  {
   "cell_type": "code",
   "execution_count": 4,
   "id": "e615a30a",
   "metadata": {},
   "outputs": [],
   "source": [
    "#What is the value of a dictionary value with the key 'foo' and the value 42?\n",
    "d={\"foo\" : 42}\n"
   ]
  },
  {
   "cell_type": "code",
   "execution_count": null,
   "id": "d01d68ad",
   "metadata": {},
   "outputs": [],
   "source": [
    "3\tWhat is the most significant distinction between a dictionary and a list?\n",
    "Items stored in the dictionary are unordered while items stored in list in are ordered\n"
   ]
  },
  {
   "cell_type": "code",
   "execution_count": null,
   "id": "c0770cfe",
   "metadata": {},
   "outputs": [],
   "source": [
    "4\tWhat happens if you try to access spam['foo'] if spam is {'bar': 100}?\n",
    "We get keyError error\n"
   ]
  },
  {
   "cell_type": "code",
   "execution_count": null,
   "id": "f54abb2f",
   "metadata": {},
   "outputs": [],
   "source": [
    "5\tIf a dictionary is stored in spam, what is the difference between the expressions 'cat' in spam and 'cat' in spam.keys()?\n",
    " There is no difference . the ‘in’ operator checks whether the value exist as a key in dictionary .\n"
   ]
  },
  {
   "cell_type": "code",
   "execution_count": null,
   "id": "4ba5925f",
   "metadata": {},
   "outputs": [],
   "source": [
    "6  If a dictionary is stored in spam, what is the difference between the expressions 'cat' in spam and 'cat' in spam.values()?\n",
    "Cat in spam checks whether there is ‘cat’ key present in dictionary, while cat in spam.values() checks whether there is a value ‘cat’ assign for one of the key in spam.\n",
    "\n"
   ]
  },
  {
   "cell_type": "code",
   "execution_count": 15,
   "id": "42423d1b",
   "metadata": {},
   "outputs": [],
   "source": [
    "#7 What is a shortcut for the following code?\n",
    "spam ={}\n",
    "if 'color' not in spam:\n",
    "    spam['color'] = 'black'\n",
    "    spam.setdefault('colour','black')\n"
   ]
  },
  {
   "cell_type": "code",
   "execution_count": 16,
   "id": "f2321bb9",
   "metadata": {},
   "outputs": [
    {
     "data": {
      "text/plain": [
       "{'color': 'black', 'colour': 'black'}"
      ]
     },
     "execution_count": 16,
     "metadata": {},
     "output_type": "execute_result"
    }
   ],
   "source": [
    "spam"
   ]
  },
  {
   "cell_type": "code",
   "execution_count": null,
   "id": "dcee2161",
   "metadata": {},
   "outputs": [],
   "source": [
    "8. How do you \"pretty print\" dictionary values using which module and function?\n",
    " pprint.pprint()\n"
   ]
  }
 ],
 "metadata": {
  "kernelspec": {
   "display_name": "Python 3 (ipykernel)",
   "language": "python",
   "name": "python3"
  },
  "language_info": {
   "codemirror_mode": {
    "name": "ipython",
    "version": 3
   },
   "file_extension": ".py",
   "mimetype": "text/x-python",
   "name": "python",
   "nbconvert_exporter": "python",
   "pygments_lexer": "ipython3",
   "version": "3.9.12"
  }
 },
 "nbformat": 4,
 "nbformat_minor": 5
}
