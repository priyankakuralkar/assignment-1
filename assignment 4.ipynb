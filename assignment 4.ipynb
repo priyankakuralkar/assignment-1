{
 "cells": [
  {
   "cell_type": "code",
   "execution_count": null,
   "id": "9fded119",
   "metadata": {},
   "outputs": [],
   "source": [
    "1.\tWhat exactly is []?\n",
    "A list is created by placing elements inside square bracket which is separated by commas.\n",
    "List can hold any data type .we can store list inside list called as nested list\n"
   ]
  },
  {
   "cell_type": "code",
   "execution_count": 19,
   "id": "ea915ee5",
   "metadata": {},
   "outputs": [
    {
     "data": {
      "text/plain": [
       "[2, 4, 6, 'hello', 8, 10]"
      ]
     },
     "execution_count": 19,
     "metadata": {},
     "output_type": "execute_result"
    }
   ],
   "source": [
    "#2.\tIn a list of values stored in a variable called spam, how would you assign the value 'hello' as the third value? (Assume [2, 4, 6, 8, 10] are in spam.)\n",
    "\n",
    "spam =[2,4,6,8,10]\n",
    "spam.insert(3, \"hello\")\n",
    "spam"
   ]
  },
  {
   "cell_type": "code",
   "execution_count": 21,
   "id": "c405213a",
   "metadata": {},
   "outputs": [],
   "source": [
    "#Let's pretend the spam includes the list ['a', 'b', 'c', 'd'] for the next three queries.\n",
    "#3.\tWhat is the value of spam[int(int('3' * 2) / 11)]?\n"
   ]
  },
  {
   "cell_type": "code",
   "execution_count": 1,
   "id": "dd056662",
   "metadata": {},
   "outputs": [
    {
     "data": {
      "text/plain": [
       "'d'"
      ]
     },
     "execution_count": 1,
     "metadata": {},
     "output_type": "execute_result"
    }
   ],
   "source": [
    "spam =['a','b','c','d']\n",
    "spam[int(int('3'*2)/11)]\n"
   ]
  },
  {
   "cell_type": "code",
   "execution_count": 2,
   "id": "737f9251",
   "metadata": {},
   "outputs": [
    {
     "data": {
      "text/plain": [
       "'d'"
      ]
     },
     "execution_count": 2,
     "metadata": {},
     "output_type": "execute_result"
    }
   ],
   "source": [
    "#4.\tWhat is the value of spam[-1]?\n",
    "\n",
    "spam[-1]"
   ]
  },
  {
   "cell_type": "code",
   "execution_count": 3,
   "id": "b92f7774",
   "metadata": {},
   "outputs": [
    {
     "data": {
      "text/plain": [
       "['a', 'b']"
      ]
     },
     "execution_count": 3,
     "metadata": {},
     "output_type": "execute_result"
    }
   ],
   "source": [
    "#5.\tWhat is the value of spam[:2]?\n",
    "spam[:2]"
   ]
  },
  {
   "cell_type": "code",
   "execution_count": null,
   "id": "0b92f6b9",
   "metadata": {},
   "outputs": [],
   "source": [
    "Let's pretend bacon has the list [3.14, 'cat,' 11, 'cat,' True] for the next three questions.\n",
    "6.\tWhat is the value of bacon.index('cat')?\n",
    "    1 , index always give the first occurance value inside list\n"
   ]
  },
  {
   "cell_type": "code",
   "execution_count": 34,
   "id": "73c55dbf",
   "metadata": {},
   "outputs": [],
   "source": [
    "bacon= [3.14,'cat',11,'cat',True] "
   ]
  },
  {
   "cell_type": "code",
   "execution_count": 35,
   "id": "2abacc99",
   "metadata": {},
   "outputs": [
    {
     "data": {
      "text/plain": [
       "1"
      ]
     },
     "execution_count": 35,
     "metadata": {},
     "output_type": "execute_result"
    }
   ],
   "source": [
    "bacon.index('cat')"
   ]
  },
  {
   "cell_type": "code",
   "execution_count": null,
   "id": "0380f782",
   "metadata": {},
   "outputs": [],
   "source": [
    "7.\tHow does bacon.append(99) change the look of the list value in bacon?\n",
    "Append operation always append the value at the end of the list. \n"
   ]
  },
  {
   "cell_type": "code",
   "execution_count": 36,
   "id": "e70b5710",
   "metadata": {},
   "outputs": [],
   "source": [
    "bacon.append(99)"
   ]
  },
  {
   "cell_type": "code",
   "execution_count": 37,
   "id": "c63656cd",
   "metadata": {},
   "outputs": [
    {
     "data": {
      "text/plain": [
       "[3.14, 'cat', 11, 'cat', True, 99]"
      ]
     },
     "execution_count": 37,
     "metadata": {},
     "output_type": "execute_result"
    }
   ],
   "source": [
    "bacon"
   ]
  },
  {
   "cell_type": "code",
   "execution_count": null,
   "id": "3935b0ce",
   "metadata": {},
   "outputs": [],
   "source": [
    "8.\tHow does bacon.remove('cat') change the look of the list in bacon?\n",
    "\n",
    "Remove operation always remove the first occurance of given list if we have same value repeatetly.\n"
   ]
  },
  {
   "cell_type": "code",
   "execution_count": 38,
   "id": "9cda0e04",
   "metadata": {},
   "outputs": [],
   "source": [
    "bacon.remove('cat')"
   ]
  },
  {
   "cell_type": "code",
   "execution_count": 39,
   "id": "898154e5",
   "metadata": {},
   "outputs": [
    {
     "data": {
      "text/plain": [
       "[3.14, 11, 'cat', True, 99]"
      ]
     },
     "execution_count": 39,
     "metadata": {},
     "output_type": "execute_result"
    }
   ],
   "source": [
    "bacon"
   ]
  },
  {
   "cell_type": "code",
   "execution_count": null,
   "id": "b7c990bc",
   "metadata": {},
   "outputs": [],
   "source": [
    "9.\tWhat are the list concatenation and list replication operators?\n",
    "‘+’  operator is for concatenation and ‘*’ operator is for replication \n"
   ]
  },
  {
   "cell_type": "code",
   "execution_count": null,
   "id": "be73cdfd",
   "metadata": {},
   "outputs": [],
   "source": [
    "10.\tWhat is difference between the list methods append() and insert()?\n",
    "Append () always add a single value at the end of the list while insert () use for adding single value on particular index\n"
   ]
  },
  {
   "cell_type": "code",
   "execution_count": null,
   "id": "0498d661",
   "metadata": {},
   "outputs": [],
   "source": [
    "11.\tWhat are the two methods for removing items from a list?\n",
    "Pop() and clear().pop() removed  the element from the list based on index given, while clear() removed all the element inside the list\n"
   ]
  },
  {
   "cell_type": "code",
   "execution_count": null,
   "id": "c544fc93",
   "metadata": {},
   "outputs": [],
   "source": [
    "12.\tDescribe how list values and string values are identical.\n",
    "List is similar to string , both are the sequences.\n",
    "list is ordered sequence of object type while string is ordered sequence of characters.\n",
    "list and string both are used to store data.\n"
   ]
  },
  {
   "cell_type": "code",
   "execution_count": null,
   "id": "8235b703",
   "metadata": {},
   "outputs": [],
   "source": [
    "13.\tWhat's the difference between tuples and lists?\n",
    "List and tuple both are sequences but list is mutable while tuple are immutable object datatype. \n",
    "List consumed more memory than tuple. List has many inbuilt functions compared to tuple. \n",
    "\n"
   ]
  },
  {
   "cell_type": "code",
   "execution_count": 42,
   "id": "26f1a026",
   "metadata": {},
   "outputs": [],
   "source": [
    "#14.\tHow do you type a tuple value that only contains the integer 42?\n",
    "tuple= (42,)\n"
   ]
  },
  {
   "cell_type": "code",
   "execution_count": 43,
   "id": "c59f070c",
   "metadata": {},
   "outputs": [
    {
     "data": {
      "text/plain": [
       "(42,)"
      ]
     },
     "execution_count": 43,
     "metadata": {},
     "output_type": "execute_result"
    }
   ],
   "source": [
    "tuple"
   ]
  },
  {
   "cell_type": "code",
   "execution_count": null,
   "id": "a9c1298b",
   "metadata": {},
   "outputs": [],
   "source": [
    "15.\tHow do you get a list value's tuple form? How do you get a tuple value's list form?\n",
    "My_Tuple = tuple(list) , my_list=list(tuple)\n",
    "\n"
   ]
  },
  {
   "cell_type": "code",
   "execution_count": null,
   "id": "d52424f4",
   "metadata": {},
   "outputs": [],
   "source": [
    "16.\tVariables that \"contain\" list values are not necessarily lists themselves. Instead,what do they contain?\n",
    "Variables that “contain” list values don’t actually conatin list directly. They contain references to list values\n"
   ]
  },
  {
   "cell_type": "code",
   "execution_count": null,
   "id": "efd5d910",
   "metadata": {},
   "outputs": [],
   "source": [
    "17.\tHow do you distinguish between copy.copy() and copy.deepcopy()?\n",
    "\n",
    "Copy() created reference of original object, if you change in copied object it means you change original object. \n",
    "Deepcopy() created new object and real copying of original object is new one.it doesn’t affect the original one.\n"
   ]
  }
 ],
 "metadata": {
  "kernelspec": {
   "display_name": "Python 3 (ipykernel)",
   "language": "python",
   "name": "python3"
  },
  "language_info": {
   "codemirror_mode": {
    "name": "ipython",
    "version": 3
   },
   "file_extension": ".py",
   "mimetype": "text/x-python",
   "name": "python",
   "nbconvert_exporter": "python",
   "pygments_lexer": "ipython3",
   "version": "3.9.12"
  }
 },
 "nbformat": 4,
 "nbformat_minor": 5
}
